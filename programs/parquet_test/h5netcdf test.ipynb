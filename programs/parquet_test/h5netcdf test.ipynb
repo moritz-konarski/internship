{
 "cells": [
  {
   "cell_type": "code",
   "execution_count": 1,
   "metadata": {},
   "outputs": [],
   "source": [
    "import h5netcdf as hn\n",
    "\n",
    "f = hn.File('../.downloads/20190901.nc4', 'r')"
   ]
  },
  {
   "cell_type": "code",
   "execution_count": 2,
   "metadata": {},
   "outputs": [
    {
     "data": {
      "text/plain": [
       "<h5netcdf.Dimensions: lat=29, lev=42, lon=30, time=8>"
      ]
     },
     "execution_count": 2,
     "metadata": {},
     "output_type": "execute_result"
    }
   ],
   "source": [
    "f.dimensions"
   ]
  },
  {
   "cell_type": "code",
   "execution_count": 3,
   "metadata": {},
   "outputs": [
    {
     "name": "stdout",
     "output_type": "stream",
     "text": [
      "<h5netcdf.Dimensions: lat=29, lev=42, lon=30, time=8>\n"
     ]
    }
   ],
   "source": [
    "print(f.dimensions)"
   ]
  },
  {
   "cell_type": "code",
   "execution_count": 4,
   "metadata": {},
   "outputs": [
    {
     "data": {
      "text/plain": [
       "<h5netcdf.File '20190901.nc4' (mode r)>\n",
       "Dimensions:\n",
       "    lat: 29\n",
       "    lev: 42\n",
       "    lon: 30\n",
       "    time: 8\n",
       "Groups:\n",
       "Variables:\n",
       "    EPV: ('time', 'lev', 'lat', 'lon') float32\n",
       "    PHIS: ('time', 'lat', 'lon') float32\n",
       "    RH: ('time', 'lev', 'lat', 'lon') float32\n",
       "    PS: ('time', 'lat', 'lon') float32\n",
       "    V: ('time', 'lev', 'lat', 'lon') float32\n",
       "    T: ('time', 'lev', 'lat', 'lon') float32\n",
       "    SLP: ('time', 'lat', 'lon') float32\n",
       "    OMEGA: ('time', 'lev', 'lat', 'lon') float32\n",
       "    QL: ('time', 'lev', 'lat', 'lon') float32\n",
       "    U: ('time', 'lev', 'lat', 'lon') float32\n",
       "    QV: ('time', 'lev', 'lat', 'lon') float32\n",
       "    QI: ('time', 'lev', 'lat', 'lon') float32\n",
       "    H: ('time', 'lev', 'lat', 'lon') float32\n",
       "    O3: ('time', 'lev', 'lat', 'lon') float32\n",
       "    lat: ('lat',) float64\n",
       "    lev: ('lev',) float64\n",
       "    lon: ('lon',) float64\n",
       "    time: ('time',) int32\n",
       "Attributes:\n",
       "    History: b'Original file generated: Wed Sep 25 02:23:56 2019 GMT'\n",
       "    Comment: b'GMAO filename: d5124_m2_jan10.inst3_3d_asm_Np.20190901.nc4'\n",
       "    Filename: b'MERRA2_400.inst3_3d_asm_Np.20190901.nc4'\n",
       "    Conventions: b'CF-1'\n",
       "    Institution: b'NASA Global Modeling and Assimilation Office'\n",
       "    References: b'http://gmao.gsfc.nasa.gov'\n",
       "    Format: b'NetCDF-4/HDF-5'\n",
       "    SpatialCoverage: b'global'\n",
       "    VersionID: b'5.12.4'\n",
       "    TemporalRange: b'1980-01-01 -> 2016-12-31'\n",
       "    identifier_product_doi_authority: b'http://dx.doi.org/'\n",
       "    ShortName: b'M2I3NPASM'\n",
       "    GranuleID: b'MERRA2_400.inst3_3d_asm_Np.20190901.nc4'\n",
       "    ProductionDateTime: b'Original file generated: Wed Sep 25 02:23:56 2019 GMT'\n",
       "    LongName: b'MERRA2 inst3_3d_asm_Np: 3d,3-Hourly,Instantaneous,Pressure-Level,Assimilation,Assimilated Meteorological Fields'\n",
       "    Title: b'MERRA2 inst3_3d_asm_Np: 3d,3-Hourly,Instantaneous,Pressure-Level,Assimilation,Assimilated Meteorological Fields'\n",
       "    SouthernmostLatitude: b'-90.0'\n",
       "    NorthernmostLatitude: b'90.0'\n",
       "    WesternmostLongitude: b'-180.0'\n",
       "    EasternmostLongitude: b'179.375'\n",
       "    LatitudeResolution: b'0.5'\n",
       "    LongitudeResolution: b'0.625'\n",
       "    DataResolution: b'0.5 x 0.625 (42 pressure levels)'\n",
       "    Source: b'CVS tag: GEOSadas-5_12_4_p20_sp3_M2-OPS'\n",
       "    Contact: b'http://gmao.gsfc.nasa.gov'\n",
       "    identifier_product_doi: b'10.5067/QBZ6MG944HW0'\n",
       "    RangeBeginningDate: b'2019-09-01'\n",
       "    RangeBeginningTime: b'00:00:00.000000'\n",
       "    RangeEndingDate: b'2019-09-01'\n",
       "    RangeEndingTime: b'21:00:00.000000'\n",
       "    DODS_EXTRA.Unlimited_Dimension: b'time'\n",
       "    history: b'2020-09-24 10:56:45 GMT Hyrax-1.15.1 https://goldsmr5.gesdisc.eosdis.nasa.gov:443/opendap/MERRA2/M2I3NPASM.5.12.4/2019/09/MERRA2_400.inst3_3d_asm_Np.20190901.nc4.nc4?EPV%5B0:7%5D%5B0:41%5D%5B248:276%5D%5B392:421%5D,PHIS%5B0:7%5D%5B248:276%5D%5B392:421%5D,RH%5B0:7%5D%5B0:41%5D%5B248:276%5D%5B392:421%5D,PS%5B0:7%5D%5B248:276%5D%5B392:421%5D,V%5B0:7%5D%5B0:41%5D%5B248:276%5D%5B392:421%5D,T%5B0:7%5D%5B0:41%5D%5B248:276%5D%5B392:421%5D,SLP%5B0:7%5D%5B248:276%5D%5B392:421%5D,OMEGA%5B0:7%5D%5B0:41%5D%5B248:276%5D%5B392:421%5D,QL%5B0:7%5D%5B0:41%5D%5B248:276%5D%5B392:421%5D,U%5B0:7%5D%5B0:41%5D%5B248:276%5D%5B392:421%5D,QV%5B0:7%5D%5B0:41%5D%5B248:276%5D%5B392:421%5D,QI%5B0:7%5D%5B0:41%5D%5B248:276%5D%5B392:421%5D,H%5B0:7%5D%5B0:41%5D%5B248:276%5D%5B392:421%5D,O3%5B0:7%5D%5B0:41%5D%5B248:276%5D%5B392:421%5D,time,lev,lat%5B248:276%5D,lon%5B392:421%5D'"
      ]
     },
     "execution_count": 4,
     "metadata": {},
     "output_type": "execute_result"
    }
   ],
   "source": [
    "f"
   ]
  },
  {
   "cell_type": "code",
   "execution_count": 5,
   "metadata": {},
   "outputs": [
    {
     "name": "stdout",
     "output_type": "stream",
     "text": [
      "<h5netcdf.Variable '/PS': dimensions ('time', 'lat', 'lon'), shape (8, 29, 30), dtype float32>\n",
      "Attributes:\n",
      "    long_name: b'surface_pressure'\n",
      "    units: b'Pa'\n",
      "    _FillValue: array([1.e+15], dtype=float32)\n",
      "    missing_value: array([1.e+15], dtype=float32)\n",
      "    fmissing_value: array([1.e+15], dtype=float32)\n",
      "    scale_factor: array([1.], dtype=float32)\n",
      "    add_offset: array([0.], dtype=float32)\n",
      "    standard_name: b'surface_pressure'\n",
      "    vmax: array([1.e+15], dtype=float32)\n",
      "    vmin: array([-1.e+15], dtype=float32)\n",
      "    valid_range: array([-1.e+15,  1.e+15], dtype=float32)\n",
      "    origname: b'PS'\n",
      "    fullnamepath: b'/PS'\n"
     ]
    }
   ],
   "source": [
    "print(f.variables['PS'])"
   ]
  },
  {
   "cell_type": "code",
   "execution_count": 6,
   "metadata": {},
   "outputs": [
    {
     "name": "stdout",
     "output_type": "stream",
     "text": [
      "[[[ 72775.38   73129.38   72699.38   71869.38   69161.38   70873.38\n",
      "    75249.38   75187.38   78756.38   83471.38   89505.38   94317.38\n",
      "    94965.38   89117.38   82463.38   77598.35   74184.38   64441.383\n",
      "    58789.383  59469.383  58893.383  55909.383  54173.383  54037.383\n",
      "    54093.383  54421.383  54269.383  53789.383  54165.383  54621.383]\n",
      "  [ 73529.38   72259.38   70367.38   69201.38   68501.38   68217.38\n",
      "    71495.38   78877.38   81741.38   86741.38   89441.38   91657.38\n",
      "    88937.38   84265.38   76961.13   74600.38   67901.38   62457.383\n",
      "    61813.383  58773.383  58709.383  53981.383  52573.383  52709.383\n",
      "    53045.383  53437.383  53701.383  53941.383  53669.383  54093.383]\n",
      "  [ 75189.38   72271.38   69897.38   68693.38   69741.38   69369.38\n",
      "    70021.38   76500.88   74275.38   76105.88   79905.38   81923.38\n",
      "    78795.38   74994.38   65157.383  64117.383  62529.383  61805.383\n",
      "    62525.383  57797.383  54829.383  52845.383  52197.383  53813.383\n",
      "    54717.383  53245.383  52909.383  53413.383  53957.383  55101.383]\n",
      "  [ 77728.81   75184.38   73481.38   72993.38   73023.38   75630.38\n",
      "    76362.38   71551.38   64969.383  63709.383  68341.38   71619.38\n",
      "    65797.38   69257.38   70403.38   69781.38   65373.383  63437.383\n",
      "    58573.383  53885.383  51925.383  52941.383  53197.383  54173.383\n",
      "    53109.383  52173.383  52613.383  53397.383  53381.383  54797.383]\n",
      "  [ 89293.38   85585.38   84497.38   83217.38   80086.38   80093.38\n",
      "    89149.38   76706.38   66417.38   61353.383  62501.383  65029.383\n",
      "    62157.383  61733.383  64949.383  65773.38   61345.383  56837.383\n",
      "    54469.383  53541.383  54285.383  54685.383  55117.383  55621.383\n",
      "    58373.383  61173.383  60997.383  57973.383  55749.383  55101.383]\n",
      "  [ 95597.38   94981.38   93705.38   91933.38   89313.38   90513.38\n",
      "    93157.38   85863.38   74715.38   68193.38   64433.383  61205.383\n",
      "    61833.383  61293.383  62953.383  61237.383  59173.383  56725.383\n",
      "    57565.383  57533.383  55541.383  58309.383  61325.383  68093.38\n",
      "    70063.38   75690.38   79950.38   75404.38   66029.38   63637.383]\n",
      "  [ 97373.38   97693.38   97373.38   96685.38   95741.38   95869.38\n",
      "    95805.38   92369.38   85527.38   77515.88   67405.38   61373.383\n",
      "    60533.383  59165.383  58797.383  58149.383  58085.383  59045.383\n",
      "    60717.383  65833.38   66333.38   68677.38   74238.38   79684.88\n",
      "    83167.38   84705.38   85495.38   85081.38   83723.38   81883.38 ]\n",
      "  [ 98133.38   97789.38   95973.38   95581.38   96125.38   93689.38\n",
      "    95533.38   92685.38   85215.38   74492.38   67477.38   62193.383\n",
      "    60573.383  59797.383  59109.383  59205.383  60085.383  62401.383\n",
      "    67373.38   76118.38   80154.38   82567.38   85277.38   86361.38\n",
      "    86733.38   86801.38   86577.38   86133.38   86149.38   86097.38 ]\n",
      "  [ 98109.38   96685.38   90929.38   88209.38   92853.38   91597.38\n",
      "    92153.38   90525.38   83993.38   71601.38   67409.38   64241.383\n",
      "    59709.383  58965.383  59853.383  61229.383  60757.383  63709.383\n",
      "    71815.38   81963.38   85867.38   86585.38   86857.38   87037.38\n",
      "    87149.38   87277.38   87253.38   87141.38   87009.38   87069.38 ]\n",
      "  [ 97829.38   96541.38   92769.38   83213.38   80498.38   85965.38\n",
      "    86525.38   84025.38   80520.38   73067.38   67777.38   63181.383\n",
      "    59565.383  59213.383  58701.383  61037.383  60901.383  66013.38\n",
      "    77180.63   85327.38   87409.38   87437.38   87397.38   87417.38\n",
      "    87497.38   87689.38   87793.38   87901.38   87901.38   87813.38 ]\n",
      "  [ 97781.38   96933.38   94693.38   88041.38   75334.38   70559.38\n",
      "    73397.38   72701.38   73525.38   72531.38   67865.38   61357.383\n",
      "    58693.383  58381.383  59373.383  61253.383  66621.38   77567.57\n",
      "    84829.38   87333.38   87745.38   87873.38   87897.38   87917.38\n",
      "    87913.38   88101.38   88245.38   88349.38   88441.38   88417.38 ]\n",
      "  [ 97925.38   96573.38   94445.38   90781.38   85455.38   78352.38\n",
      "    74133.38   72633.38   70057.38   70993.38   70133.38   67429.38\n",
      "    64893.383  62133.383  62409.383  66629.38   74446.38   82023.38\n",
      "    86205.38   87537.38   87849.38   88153.38   88265.38   88389.38\n",
      "    88437.38   88565.38   88669.38   88793.38   88933.38   89013.38 ]\n",
      "  [ 97581.38   95645.38   93861.38   92429.38   92265.38   92385.38\n",
      "    92049.38   90069.38   85571.38   83069.38   80248.38   77276.88\n",
      "    71785.38   70841.38   68793.38   68009.38   68317.38   73772.38\n",
      "    79553.88   83187.38   82819.38   84831.38   86693.38   88641.38\n",
      "    88917.38   89021.38   89065.38   89189.38   89401.38   89573.38 ]\n",
      "  [ 97741.38   94405.38   92261.38   93685.38   96237.38   97653.38\n",
      "    97701.38   94581.38   89993.38   93501.38   94025.38   92725.38\n",
      "    88353.38   82987.38   75773.38   69133.38   66145.38   65945.38\n",
      "    65381.383  69777.38   75318.38   76648.38   82067.38   87077.38\n",
      "    88689.38   89189.38   89405.38   89577.38   89757.38   89949.38 ]\n",
      "  [ 98565.38   98013.38   98133.38   97533.38   97853.38   98029.38\n",
      "    97605.38   94685.38   85869.38   83561.38   90817.38   93953.38\n",
      "    90401.38   86149.38   78217.01   72999.38   71583.38   69925.38\n",
      "    68169.38   66381.38   65133.383  69081.38   75125.38   80504.38\n",
      "    86617.38   88601.38   89117.38   89565.38   89789.38   89933.38 ]\n",
      "  [ 98341.38   98461.38   98405.38   98069.38   98045.38   97973.38\n",
      "    96757.38   93489.38   82969.38   74798.38   77829.1    85505.38\n",
      "    82869.38   80515.38   76555.88   76021.88   74753.38   74435.38\n",
      "    71039.38   66573.38   64413.383  64577.383  68353.38   78460.88\n",
      "    81090.38   82209.38   85151.38   87613.38   88601.38   88969.38 ]\n",
      "  [ 98069.38   98621.38   98741.38   98573.38   98485.38   98381.38\n",
      "    96973.38   93949.38   85121.38   75883.88   73275.38   73275.38\n",
      "    76115.88   76055.88   73473.38   73211.38   72297.38   72691.38\n",
      "    73173.38   73670.38   71629.38   67677.38   65621.38   66945.38\n",
      "    65077.383  66937.38   73317.38   78091.13   82649.38   82707.38 ]\n",
      "  [ 98093.38   98557.38   98941.38   99029.38   98861.38   98821.38\n",
      "    98285.38   96149.38   90421.38   83091.38   80878.38   81442.38\n",
      "    78362.63   74227.38   72423.38   73401.38   74570.38   77033.63\n",
      "    77082.13   77849.04   80211.38   77264.26   72749.38   70261.38\n",
      "    69341.38   69897.38   69345.38   70197.38   72321.38   71123.38 ]\n",
      "  [ 98765.38   98917.38   99045.38   99125.38   99077.38   98877.38\n",
      "    98365.38   96165.38   92385.38   92721.38   93705.38   90417.38\n",
      "    88525.38   91181.38   92917.38   92517.38   89193.38   83511.38\n",
      "    79969.38   75431.38   71151.38   75913.88   80378.38   78770.88\n",
      "    76019.88   76913.63   78654.38   80069.38   76253.88   73043.38 ]\n",
      "  [ 99421.38   99333.38   99333.38   99301.38   98669.38   96581.38\n",
      "    94653.38   94349.38   94533.38   95885.38   96197.38   95597.38\n",
      "    94893.38   94805.38   94797.38   92245.38   90281.38   91965.38\n",
      "    93121.38   93497.38   91425.38   88489.38   89237.38   89629.38\n",
      "    87813.38   84801.38   83023.38   87233.38   89065.38   86341.38 ]\n",
      "  [ 99805.38   99685.38   99597.38   99381.38   96885.38   94885.38\n",
      "    94573.38   96941.38   97501.38   97309.38   96973.38   96669.38\n",
      "    96525.38   96317.38   95341.38   92621.38   91981.38   92889.38\n",
      "    94165.38   94333.38   94001.38   91013.38   91473.38   92505.38\n",
      "    93541.38   93021.38   91029.38   86253.38   82965.38   78182.01 ]\n",
      "  [ 99965.38   99821.38   99717.38   98893.38   97501.38   98765.38\n",
      "    98821.38   98157.38   97757.38   97437.38   97437.38   97621.38\n",
      "    97469.38   96701.38   95597.38   95213.38   95917.38   96165.38\n",
      "    96069.38   95325.38   92301.38   89765.38   84141.38   80023.38\n",
      "    79699.38   80946.38   80962.38   83857.38   91129.38   88545.38 ]\n",
      "  [100013.38   99925.38   99829.38   99717.38   99709.38   99597.38\n",
      "    99061.38   98637.38   98421.38   98125.38   97845.38   97565.38\n",
      "    97117.38   95669.38   96205.38   97069.38   97029.38   96861.38\n",
      "    96701.38   96461.38   95413.38   93577.38   87533.38   78730.13\n",
      "    74042.38   73668.38   79013.38   87061.38   95325.38   93741.38 ]\n",
      "  [100069.38   99901.38   99805.38   99661.38   99229.38   98733.38\n",
      "    98405.38   98269.38   98021.38   97573.38   96925.38   96605.38\n",
      "    95893.38   95949.38   96901.38   97229.38   97149.38   97029.38\n",
      "    96941.38   96885.38   96557.38   95677.38   94581.38   91985.38\n",
      "    88829.38   84041.38   79871.38   86413.38   87961.38   82095.38 ]\n",
      "  [ 99501.38   99829.38  100285.38   99197.38   98845.38   98461.38\n",
      "    98309.38   97957.38   97429.38   96981.38   96501.38   96005.38\n",
      "    95645.38   96309.38   97141.38   97333.38   97277.38   97205.38\n",
      "    97109.38   97021.38   96909.38   96837.38   96461.38   95717.38\n",
      "    95149.38   93437.38   93209.38   95573.38   90025.38   86165.38 ]\n",
      "  [ 99685.38   99549.38   99245.38   98469.38   98309.38   98397.38\n",
      "    98229.38   97637.38   96813.38   96157.38   95813.38   95293.38\n",
      "    95093.38   95845.38   96693.38   97133.38   97261.38   97277.38\n",
      "    97141.38   97077.38   97061.38   97061.38   96893.38   96213.38\n",
      "    95957.38   96725.38   97061.38   96541.38   95277.38   94805.38 ]\n",
      "  [ 99597.38   98925.38   97981.38   97629.38   97749.38   97829.38\n",
      "    97685.38   97325.38   96765.38   95757.38   95221.38   94949.38\n",
      "    94117.38   94605.38   95613.38   96253.38   96373.38   96541.38\n",
      "    96213.38   95701.38   95269.38   95205.38   95789.38   96613.38\n",
      "    96557.38   95813.38   94381.38   92349.38   90117.38   88577.38 ]\n",
      "  [ 99437.38   98389.38   96957.38   96469.38   97141.38   97533.38\n",
      "    97509.38   97397.38   96869.38   95701.38   94685.38   93465.38\n",
      "    92801.38   92945.38   93993.38   94637.38   94381.38   95013.38\n",
      "    94941.38   94341.38   93697.38   93641.38   94637.38   95317.38\n",
      "    94989.38   92997.38   89505.38   87769.38   88205.38   89401.38 ]\n",
      "  [ 99189.38   98005.38   96301.38   95685.38   96333.38   96701.38\n",
      "    96893.38   97109.38   96733.38   95797.38   94861.38   93505.38\n",
      "    92245.38   92117.38   92697.38   92789.38   92609.38   93357.38\n",
      "    93549.38   93037.38   92913.38   93409.38   93457.38   92705.38\n",
      "    92701.38   92389.38   90745.38   91357.38   94117.38   95765.38 ]]]\n"
     ]
    }
   ],
   "source": [
    "print(f.variables['PS'][0:1])"
   ]
  },
  {
   "cell_type": "code",
   "execution_count": 7,
   "metadata": {},
   "outputs": [],
   "source": [
    "f.close()"
   ]
  },
  {
   "cell_type": "code",
   "execution_count": 8,
   "metadata": {},
   "outputs": [],
   "source": [
    "import xarray\n",
    "import netCDF4\n",
    "import numpy"
   ]
  },
  {
   "cell_type": "code",
   "execution_count": 9,
   "metadata": {},
   "outputs": [],
   "source": [
    "ds = xarray.open_mfdataset('../.downloads/201909*.nc4',combine = 'by_coords', concat_dim=\"time\")"
   ]
  },
  {
   "cell_type": "code",
   "execution_count": 10,
   "metadata": {},
   "outputs": [],
   "source": [
    "ds.to_netcdf('precip_combined.nc')"
   ]
  },
  {
   "cell_type": "code",
   "execution_count": 11,
   "metadata": {},
   "outputs": [],
   "source": [
    "ds.close()"
   ]
  },
  {
   "cell_type": "code",
   "execution_count": 13,
   "metadata": {},
   "outputs": [
    {
     "data": {
      "text/plain": [
       "0"
      ]
     },
     "execution_count": 13,
     "metadata": {},
     "output_type": "execute_result"
    }
   ],
   "source": [
    "import os\n",
    "\n",
    "os.system(\"ls\")"
   ]
  },
  {
   "cell_type": "code",
   "execution_count": 20,
   "metadata": {},
   "outputs": [
    {
     "name": "stdout",
     "output_type": "stream",
     "text": [
      "<class 'netCDF4._netCDF4.Dataset'>\n",
      "root group (NETCDF4 data model, file format HDF5):\n",
      "    History: Original file generated: Wed Sep 25 02:23:56 2019 GMT\n",
      "    Comment: GMAO filename: d5124_m2_jan10.inst3_3d_asm_Np.20190901.nc4\n",
      "    Filename: MERRA2_400.inst3_3d_asm_Np.20190901.nc4\n",
      "    Conventions: CF-1\n",
      "    Institution: NASA Global Modeling and Assimilation Office\n",
      "    References: http://gmao.gsfc.nasa.gov\n",
      "    Format: NetCDF-4/HDF-5\n",
      "    SpatialCoverage: global\n",
      "    VersionID: 5.12.4\n",
      "    TemporalRange: 1980-01-01 -> 2016-12-31\n",
      "    identifier_product_doi_authority: http://dx.doi.org/\n",
      "    ShortName: M2I3NPASM\n",
      "    GranuleID: MERRA2_400.inst3_3d_asm_Np.20190901.nc4\n",
      "    ProductionDateTime: Original file generated: Wed Sep 25 02:23:56 2019 GMT\n",
      "    LongName: MERRA2 inst3_3d_asm_Np: 3d,3-Hourly,Instantaneous,Pressure-Level,Assimilation,Assimilated Meteorological Fields\n",
      "    Title: MERRA2 inst3_3d_asm_Np: 3d,3-Hourly,Instantaneous,Pressure-Level,Assimilation,Assimilated Meteorological Fields\n",
      "    SouthernmostLatitude: -90.0\n",
      "    NorthernmostLatitude: 90.0\n",
      "    WesternmostLongitude: -180.0\n",
      "    EasternmostLongitude: 179.375\n",
      "    LatitudeResolution: 0.5\n",
      "    LongitudeResolution: 0.625\n",
      "    DataResolution: 0.5 x 0.625 (42 pressure levels)\n",
      "    Source: CVS tag: GEOSadas-5_12_4_p20_sp3_M2-OPS\n",
      "    Contact: http://gmao.gsfc.nasa.gov\n",
      "    identifier_product_doi: 10.5067/QBZ6MG944HW0\n",
      "    RangeBeginningDate: 2019-09-01\n",
      "    RangeBeginningTime: 00:00:00.000000\n",
      "    RangeEndingDate: 2019-09-01\n",
      "    RangeEndingTime: 21:00:00.000000\n",
      "    DODS_EXTRA.Unlimited_Dimension: time\n",
      "    history: 2020-09-24 10:56:45 GMT Hyrax-1.15.1 https://goldsmr5.gesdisc.eosdis.nasa.gov:443/opendap/MERRA2/M2I3NPASM.5.12.4/2019/09/MERRA2_400.inst3_3d_asm_Np.20190901.nc4.nc4?EPV%5B0:7%5D%5B0:41%5D%5B248:276%5D%5B392:421%5D,PHIS%5B0:7%5D%5B248:276%5D%5B392:421%5D,RH%5B0:7%5D%5B0:41%5D%5B248:276%5D%5B392:421%5D,PS%5B0:7%5D%5B248:276%5D%5B392:421%5D,V%5B0:7%5D%5B0:41%5D%5B248:276%5D%5B392:421%5D,T%5B0:7%5D%5B0:41%5D%5B248:276%5D%5B392:421%5D,SLP%5B0:7%5D%5B248:276%5D%5B392:421%5D,OMEGA%5B0:7%5D%5B0:41%5D%5B248:276%5D%5B392:421%5D,QL%5B0:7%5D%5B0:41%5D%5B248:276%5D%5B392:421%5D,U%5B0:7%5D%5B0:41%5D%5B248:276%5D%5B392:421%5D,QV%5B0:7%5D%5B0:41%5D%5B248:276%5D%5B392:421%5D,QI%5B0:7%5D%5B0:41%5D%5B248:276%5D%5B392:421%5D,H%5B0:7%5D%5B0:41%5D%5B248:276%5D%5B392:421%5D,O3%5B0:7%5D%5B0:41%5D%5B248:276%5D%5B392:421%5D,time,lev,lat%5B248:276%5D,lon%5B392:421%5D\n",
      "    dimensions(sizes): time(80), lev(42), lat(29), lon(30)\n",
      "    variables(dimensions): float32 EPV(time,lev,lat,lon), float32 PHIS(time,lat,lon), float32 RH(time,lev,lat,lon), float32 PS(time,lat,lon), float32 V(time,lev,lat,lon), float32 T(time,lev,lat,lon), float32 SLP(time,lat,lon), float32 OMEGA(time,lev,lat,lon), float32 QL(time,lev,lat,lon), float32 U(time,lev,lat,lon), float32 QV(time,lev,lat,lon), float32 QI(time,lev,lat,lon), float32 H(time,lev,lat,lon), float32 O3(time,lev,lat,lon), float64 lat(lat), float64 lev(lev), float64 lon(lon), int64 time(time)\n",
      "    groups: \n"
     ]
    },
    {
     "name": "stderr",
     "output_type": "stream",
     "text": [
      "<ipython-input-20-c31bda4fc1e4>:2: DeprecationWarning: tostring() is deprecated. Use tobytes() instead.\n",
      "  print(f)\n"
     ]
    }
   ],
   "source": [
    "f = netCDF4.Dataset(\"./precip_combined.nc\", 'r')\n",
    "print(f)"
   ]
  },
  {
   "cell_type": "code",
   "execution_count": 17,
   "metadata": {},
   "outputs": [
    {
     "name": "stdout",
     "output_type": "stream",
     "text": [
      "<class 'netCDF4._netCDF4.Variable'>\n",
      "float32 PS(time, lat, lon)\n",
      "    _FillValue: 1000000000000000.0\n",
      "    long_name: surface_pressure\n",
      "    units: Pa\n",
      "    fmissing_value: 1000000000000000.0\n",
      "    standard_name: surface_pressure\n",
      "    vmax: 1000000000000000.0\n",
      "    vmin: -1000000000000000.0\n",
      "    valid_range: [-1.e+15  1.e+15]\n",
      "    origname: PS\n",
      "    fullnamepath: /PS\n",
      "    add_offset: 0.0\n",
      "    scale_factor: 1.0\n",
      "    missing_value: 1000000000000000.0\n",
      "unlimited dimensions: \n",
      "current shape = (80, 29, 30)\n",
      "filling on\n"
     ]
    },
    {
     "name": "stderr",
     "output_type": "stream",
     "text": [
      "<ipython-input-17-d6b956e2bf00>:1: DeprecationWarning: tostring() is deprecated. Use tobytes() instead.\n",
      "  print(f.variables['PS'])\n"
     ]
    }
   ],
   "source": [
    "print(f.variables['PS'])"
   ]
  },
  {
   "cell_type": "code",
   "execution_count": 18,
   "metadata": {},
   "outputs": [],
   "source": [
    "f2 = netCDF4.Dataset(\"../.downloads/20190901.nc4\", 'r')"
   ]
  },
  {
   "cell_type": "code",
   "execution_count": 19,
   "metadata": {},
   "outputs": [
    {
     "data": {
      "text/plain": [
       "<class 'netCDF4._netCDF4.Variable'>\n",
       "float32 PS(time, lat, lon)\n",
       "    long_name: surface_pressure\n",
       "    units: Pa\n",
       "    _FillValue: 1000000000000000.0\n",
       "    missing_value: 1000000000000000.0\n",
       "    fmissing_value: 1000000000000000.0\n",
       "    scale_factor: 1.0\n",
       "    add_offset: 0.0\n",
       "    standard_name: surface_pressure\n",
       "    vmax: 1000000000000000.0\n",
       "    vmin: -1000000000000000.0\n",
       "    valid_range: [-1.e+15  1.e+15]\n",
       "    origname: PS\n",
       "    fullnamepath: /PS\n",
       "unlimited dimensions: \n",
       "current shape = (8, 29, 30)\n",
       "filling on"
      ]
     },
     "execution_count": 19,
     "metadata": {},
     "output_type": "execute_result"
    }
   ],
   "source": [
    "f2.variables['PS']"
   ]
  },
  {
   "cell_type": "code",
   "execution_count": 24,
   "metadata": {},
   "outputs": [
    {
     "data": {
      "text/plain": [
       "<class 'netCDF4._netCDF4.Variable'>\n",
       "float32 PS(time, lat, lon)\n",
       "    _FillValue: 1000000000000000.0\n",
       "    long_name: surface_pressure\n",
       "    units: Pa\n",
       "    fmissing_value: 1000000000000000.0\n",
       "    standard_name: surface_pressure\n",
       "    vmax: 1000000000000000.0\n",
       "    vmin: -1000000000000000.0\n",
       "    valid_range: [-1.e+15  1.e+15]\n",
       "    origname: PS\n",
       "    fullnamepath: /PS\n",
       "    add_offset: 0.0\n",
       "    scale_factor: 1.0\n",
       "    missing_value: 1000000000000000.0\n",
       "unlimited dimensions: \n",
       "current shape = (80, 29, 30)\n",
       "filling on"
      ]
     },
     "execution_count": 24,
     "metadata": {},
     "output_type": "execute_result"
    }
   ],
   "source": [
    "f.variables['PS']"
   ]
  },
  {
   "cell_type": "code",
   "execution_count": 21,
   "metadata": {},
   "outputs": [
    {
     "data": {
      "text/plain": [
       "{'time': <class 'netCDF4._netCDF4.Dimension'>: name = 'time', size = 8,\n",
       " 'lev': <class 'netCDF4._netCDF4.Dimension'>: name = 'lev', size = 42,\n",
       " 'lat': <class 'netCDF4._netCDF4.Dimension'>: name = 'lat', size = 29,\n",
       " 'lon': <class 'netCDF4._netCDF4.Dimension'>: name = 'lon', size = 30}"
      ]
     },
     "execution_count": 21,
     "metadata": {},
     "output_type": "execute_result"
    }
   ],
   "source": [
    "f2.dimensions"
   ]
  },
  {
   "cell_type": "code",
   "execution_count": 23,
   "metadata": {},
   "outputs": [
    {
     "data": {
      "text/plain": [
       "{'time': <class 'netCDF4._netCDF4.Dimension'>: name = 'time', size = 80,\n",
       " 'lev': <class 'netCDF4._netCDF4.Dimension'>: name = 'lev', size = 42,\n",
       " 'lat': <class 'netCDF4._netCDF4.Dimension'>: name = 'lat', size = 29,\n",
       " 'lon': <class 'netCDF4._netCDF4.Dimension'>: name = 'lon', size = 30}"
      ]
     },
     "execution_count": 23,
     "metadata": {},
     "output_type": "execute_result"
    }
   ],
   "source": [
    "f.dimensions"
   ]
  },
  {
   "cell_type": "code",
   "execution_count": 3,
   "metadata": {},
   "outputs": [],
   "source": [
    "import matplotlib.pyplot as plt\n",
    "import xarray"
   ]
  },
  {
   "cell_type": "code",
   "execution_count": 4,
   "metadata": {},
   "outputs": [
    {
     "data": {
      "text/plain": [
       "[<matplotlib.lines.Line2D at 0x7f88a67467f0>]"
      ]
     },
     "execution_count": 4,
     "metadata": {},
     "output_type": "execute_result"
    },
    {
     "data": {
      "image/png": "[encoded data removed]",
      "text/plain": [
       "<Figure size 432x288 with 1 Axes>"
      ]
     },
     "metadata": {
      "needs_background": "light"
     },
     "output_type": "display_data"
    }
   ],
   "source": [
    "ds = xarray.open_dataset('../.downloads/20190901.nc4')  # NetCDF or OPeNDAP URL\n",
    "lati = 42.8746; loni = 74.5698  # Georges Bank\n",
    "\n",
    "# Extract a dataset closest to specified point\n",
    "dsloc = ds.sel(lon=loni, lat=lati, method='nearest')\n",
    "\n",
    "# select a variable to plot\n",
    "dsloc['PS'].plot()"
   ]
  },
  {
   "cell_type": "code",
   "execution_count": 5,
   "metadata": {},
   "outputs": [
    {
     "data": {
      "text/plain": [
       "[<matplotlib.lines.Line2D at 0x7f88a6768340>]"
      ]
     },
     "execution_count": 5,
     "metadata": {},
     "output_type": "execute_result"
    },
    {
     "data": {
      "image/png": "[encoded data removed]",
      "text/plain": [
       "<Figure size 432x288 with 1 Axes>"
      ]
     },
     "metadata": {
      "needs_background": "light"
     },
     "output_type": "display_data"
    }
   ],
   "source": [
    "ds = xarray.open_dataset('./precip_combined.nc')  # NetCDF or OPeNDAP URL\n",
    "lati = 42.8746; loni = 74.5698  # Georges Bank\n",
    "\n",
    "# Extract a dataset closest to specified point\n",
    "dsloc = ds.sel(lon=loni, lat=lati, method='nearest')\n",
    "\n",
    "# select a variable to plot\n",
    "dsloc['PS'].plot()"
   ]
  },
  {
   "cell_type": "code",
   "execution_count": null,
   "metadata": {},
   "outputs": [],
   "source": []
  }
 ],
 "metadata": {
  "kernelspec": {
   "display_name": "Python 3",
   "language": "python",
   "name": "python3"
  },
  "language_info": {
   "codemirror_mode": {
    "name": "ipython",
    "version": 3
   },
   "file_extension": ".py",
   "mimetype": "text/x-python",
   "name": "python",
   "nbconvert_exporter": "python",
   "pygments_lexer": "ipython3",
   "version": "3.8.5"
  }
 },
 "nbformat": 4,
 "nbformat_minor": 4
}
